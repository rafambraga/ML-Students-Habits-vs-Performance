{
  "nbformat": 4,
  "nbformat_minor": 0,
  "metadata": {
    "colab": {
      "name": "nnEducation.ipynb",
      "provenance": []
    },
    "kernelspec": {
      "name": "python3",
      "display_name": "Python 3"
    },
    "language_info": {
      "name": "python"
    },
    "accelerator": "GPU",
    "widgets": {
      "application/vnd.jupyter.widget-state+json": {
        "8f7c90e2de6046dc96ccd1f8af7f3a8b": {
          "model_module": "@jupyter-widgets/controls",
          "model_name": "VBoxModel",
          "model_module_version": "1.5.0",
          "state": {
            "_view_name": "VBoxView",
            "_dom_classes": [],
            "_model_name": "VBoxModel",
            "_view_module": "@jupyter-widgets/controls",
            "_model_module_version": "1.5.0",
            "_view_count": null,
            "_view_module_version": "1.5.0",
            "box_style": "",
            "layout": "IPY_MODEL_53aa7589985142149cdd61a470928f03",
            "_model_module": "@jupyter-widgets/controls",
            "children": [
              "IPY_MODEL_e9786d6a16a4449d94ab311257c0d41d",
              "IPY_MODEL_31adc7825612483c8096c5ea4275da22"
            ]
          }
        },
        "53aa7589985142149cdd61a470928f03": {
          "model_module": "@jupyter-widgets/base",
          "model_name": "LayoutModel",
          "model_module_version": "1.2.0",
          "state": {
            "_view_name": "LayoutView",
            "grid_template_rows": null,
            "right": null,
            "justify_content": null,
            "_view_module": "@jupyter-widgets/base",
            "overflow": null,
            "_model_module_version": "1.2.0",
            "_view_count": null,
            "flex_flow": null,
            "width": null,
            "min_width": null,
            "border": null,
            "align_items": null,
            "bottom": null,
            "_model_module": "@jupyter-widgets/base",
            "top": null,
            "grid_column": null,
            "overflow_y": null,
            "overflow_x": null,
            "grid_auto_flow": null,
            "grid_area": null,
            "grid_template_columns": null,
            "flex": null,
            "_model_name": "LayoutModel",
            "justify_items": null,
            "grid_row": null,
            "max_height": null,
            "align_content": null,
            "visibility": null,
            "align_self": null,
            "height": null,
            "min_height": null,
            "padding": null,
            "grid_auto_rows": null,
            "grid_gap": null,
            "max_width": null,
            "order": null,
            "_view_module_version": "1.2.0",
            "grid_template_areas": null,
            "object_position": null,
            "object_fit": null,
            "grid_auto_columns": null,
            "margin": null,
            "display": null,
            "left": null
          }
        },
        "e9786d6a16a4449d94ab311257c0d41d": {
          "model_module": "@jupyter-widgets/controls",
          "model_name": "LabelModel",
          "model_module_version": "1.5.0",
          "state": {
            "_view_name": "LabelView",
            "style": "IPY_MODEL_cee2de1a54e84caaa7efc991d1532c89",
            "_dom_classes": [],
            "description": "",
            "_model_name": "LabelModel",
            "placeholder": "​",
            "_view_module": "@jupyter-widgets/controls",
            "_model_module_version": "1.5.0",
            "value": " 0.01MB of 0.01MB uploaded (0.00MB deduped)\r",
            "_view_count": null,
            "_view_module_version": "1.5.0",
            "description_tooltip": null,
            "_model_module": "@jupyter-widgets/controls",
            "layout": "IPY_MODEL_f758b7317a17444f82eb849c68b29b12"
          }
        },
        "31adc7825612483c8096c5ea4275da22": {
          "model_module": "@jupyter-widgets/controls",
          "model_name": "FloatProgressModel",
          "model_module_version": "1.5.0",
          "state": {
            "_view_name": "ProgressView",
            "style": "IPY_MODEL_9f1523f0f1094fdab80aeb99f4a1163d",
            "_dom_classes": [],
            "description": "",
            "_model_name": "FloatProgressModel",
            "bar_style": "",
            "max": 1,
            "_view_module": "@jupyter-widgets/controls",
            "_model_module_version": "1.5.0",
            "value": 1,
            "_view_count": null,
            "_view_module_version": "1.5.0",
            "orientation": "horizontal",
            "min": 0,
            "description_tooltip": null,
            "_model_module": "@jupyter-widgets/controls",
            "layout": "IPY_MODEL_a1b6eb146f3c4e7b8808a9886615a3e6"
          }
        },
        "cee2de1a54e84caaa7efc991d1532c89": {
          "model_module": "@jupyter-widgets/controls",
          "model_name": "DescriptionStyleModel",
          "model_module_version": "1.5.0",
          "state": {
            "_view_name": "StyleView",
            "_model_name": "DescriptionStyleModel",
            "description_width": "",
            "_view_module": "@jupyter-widgets/base",
            "_model_module_version": "1.5.0",
            "_view_count": null,
            "_view_module_version": "1.2.0",
            "_model_module": "@jupyter-widgets/controls"
          }
        },
        "f758b7317a17444f82eb849c68b29b12": {
          "model_module": "@jupyter-widgets/base",
          "model_name": "LayoutModel",
          "model_module_version": "1.2.0",
          "state": {
            "_view_name": "LayoutView",
            "grid_template_rows": null,
            "right": null,
            "justify_content": null,
            "_view_module": "@jupyter-widgets/base",
            "overflow": null,
            "_model_module_version": "1.2.0",
            "_view_count": null,
            "flex_flow": null,
            "width": null,
            "min_width": null,
            "border": null,
            "align_items": null,
            "bottom": null,
            "_model_module": "@jupyter-widgets/base",
            "top": null,
            "grid_column": null,
            "overflow_y": null,
            "overflow_x": null,
            "grid_auto_flow": null,
            "grid_area": null,
            "grid_template_columns": null,
            "flex": null,
            "_model_name": "LayoutModel",
            "justify_items": null,
            "grid_row": null,
            "max_height": null,
            "align_content": null,
            "visibility": null,
            "align_self": null,
            "height": null,
            "min_height": null,
            "padding": null,
            "grid_auto_rows": null,
            "grid_gap": null,
            "max_width": null,
            "order": null,
            "_view_module_version": "1.2.0",
            "grid_template_areas": null,
            "object_position": null,
            "object_fit": null,
            "grid_auto_columns": null,
            "margin": null,
            "display": null,
            "left": null
          }
        },
        "9f1523f0f1094fdab80aeb99f4a1163d": {
          "model_module": "@jupyter-widgets/controls",
          "model_name": "ProgressStyleModel",
          "model_module_version": "1.5.0",
          "state": {
            "_view_name": "StyleView",
            "_model_name": "ProgressStyleModel",
            "description_width": "",
            "_view_module": "@jupyter-widgets/base",
            "_model_module_version": "1.5.0",
            "_view_count": null,
            "_view_module_version": "1.2.0",
            "bar_color": null,
            "_model_module": "@jupyter-widgets/controls"
          }
        },
        "a1b6eb146f3c4e7b8808a9886615a3e6": {
          "model_module": "@jupyter-widgets/base",
          "model_name": "LayoutModel",
          "model_module_version": "1.2.0",
          "state": {
            "_view_name": "LayoutView",
            "grid_template_rows": null,
            "right": null,
            "justify_content": null,
            "_view_module": "@jupyter-widgets/base",
            "overflow": null,
            "_model_module_version": "1.2.0",
            "_view_count": null,
            "flex_flow": null,
            "width": null,
            "min_width": null,
            "border": null,
            "align_items": null,
            "bottom": null,
            "_model_module": "@jupyter-widgets/base",
            "top": null,
            "grid_column": null,
            "overflow_y": null,
            "overflow_x": null,
            "grid_auto_flow": null,
            "grid_area": null,
            "grid_template_columns": null,
            "flex": null,
            "_model_name": "LayoutModel",
            "justify_items": null,
            "grid_row": null,
            "max_height": null,
            "align_content": null,
            "visibility": null,
            "align_self": null,
            "height": null,
            "min_height": null,
            "padding": null,
            "grid_auto_rows": null,
            "grid_gap": null,
            "max_width": null,
            "order": null,
            "_view_module_version": "1.2.0",
            "grid_template_areas": null,
            "object_position": null,
            "object_fit": null,
            "grid_auto_columns": null,
            "margin": null,
            "display": null,
            "left": null
          }
        }
      }
    }
  },
  "cells": [
    {
      "cell_type": "code",
      "metadata": {
        "id": "ghm4MU070LQQ",
        "colab": {
          "base_uri": "https://localhost:8080/"
        },
        "outputId": "6624f745-3024-41a8-9d04-852a50595359"
      },
      "source": [
        "import numpy as np\n",
        "import torch \n",
        "import torch.optim as optim\n",
        "import json\n",
        "import pandas as pd\n",
        "from datetime import datetime\n",
        "import pdb \n",
        "from google.colab import drive\n",
        "import pandas as pd\n",
        "from psutil import virtual_memory\n",
        "import os\n",
        "from zipfile import ZipFile\n",
        "!pip install wandb --upgrade\n",
        "import wandb"
      ],
      "execution_count": 1,
      "outputs": [
        {
          "output_type": "stream",
          "name": "stdout",
          "text": [
            "Collecting wandb\n",
            "  Downloading wandb-0.12.6-py2.py3-none-any.whl (1.7 MB)\n",
            "\u001b[K     |████████████████████████████████| 1.7 MB 5.1 MB/s \n",
            "\u001b[?25hRequirement already satisfied: requests<3,>=2.0.0 in /usr/local/lib/python3.7/dist-packages (from wandb) (2.23.0)\n",
            "Requirement already satisfied: Click!=8.0.0,>=7.0 in /usr/local/lib/python3.7/dist-packages (from wandb) (7.1.2)\n",
            "Requirement already satisfied: protobuf>=3.12.0 in /usr/local/lib/python3.7/dist-packages (from wandb) (3.17.3)\n",
            "Requirement already satisfied: PyYAML in /usr/local/lib/python3.7/dist-packages (from wandb) (3.13)\n",
            "Collecting pathtools\n",
            "  Downloading pathtools-0.1.2.tar.gz (11 kB)\n",
            "Collecting GitPython>=1.0.0\n",
            "  Downloading GitPython-3.1.24-py3-none-any.whl (180 kB)\n",
            "\u001b[K     |████████████████████████████████| 180 kB 64.2 MB/s \n",
            "\u001b[?25hCollecting yaspin>=1.0.0\n",
            "  Downloading yaspin-2.1.0-py3-none-any.whl (18 kB)\n",
            "Requirement already satisfied: promise<3,>=2.0 in /usr/local/lib/python3.7/dist-packages (from wandb) (2.3)\n",
            "Collecting subprocess32>=3.5.3\n",
            "  Downloading subprocess32-3.5.4.tar.gz (97 kB)\n",
            "\u001b[K     |████████████████████████████████| 97 kB 7.2 MB/s \n",
            "\u001b[?25hCollecting docker-pycreds>=0.4.0\n",
            "  Downloading docker_pycreds-0.4.0-py2.py3-none-any.whl (9.0 kB)\n",
            "Collecting configparser>=3.8.1\n",
            "  Downloading configparser-5.1.0-py3-none-any.whl (19 kB)\n",
            "Collecting shortuuid>=0.5.0\n",
            "  Downloading shortuuid-1.0.8-py3-none-any.whl (9.5 kB)\n",
            "Requirement already satisfied: six>=1.13.0 in /usr/local/lib/python3.7/dist-packages (from wandb) (1.15.0)\n",
            "Requirement already satisfied: psutil>=5.0.0 in /usr/local/lib/python3.7/dist-packages (from wandb) (5.4.8)\n",
            "Requirement already satisfied: python-dateutil>=2.6.1 in /usr/local/lib/python3.7/dist-packages (from wandb) (2.8.2)\n",
            "Collecting sentry-sdk>=1.0.0\n",
            "  Downloading sentry_sdk-1.4.3-py2.py3-none-any.whl (139 kB)\n",
            "\u001b[K     |████████████████████████████████| 139 kB 51.0 MB/s \n",
            "\u001b[?25hRequirement already satisfied: typing-extensions>=3.7.4.3 in /usr/local/lib/python3.7/dist-packages (from GitPython>=1.0.0->wandb) (3.10.0.2)\n",
            "Collecting gitdb<5,>=4.0.1\n",
            "  Downloading gitdb-4.0.9-py3-none-any.whl (63 kB)\n",
            "\u001b[K     |████████████████████████████████| 63 kB 1.8 MB/s \n",
            "\u001b[?25hCollecting smmap<6,>=3.0.1\n",
            "  Downloading smmap-5.0.0-py3-none-any.whl (24 kB)\n",
            "Requirement already satisfied: certifi>=2017.4.17 in /usr/local/lib/python3.7/dist-packages (from requests<3,>=2.0.0->wandb) (2021.10.8)\n",
            "Requirement already satisfied: chardet<4,>=3.0.2 in /usr/local/lib/python3.7/dist-packages (from requests<3,>=2.0.0->wandb) (3.0.4)\n",
            "Requirement already satisfied: urllib3!=1.25.0,!=1.25.1,<1.26,>=1.21.1 in /usr/local/lib/python3.7/dist-packages (from requests<3,>=2.0.0->wandb) (1.24.3)\n",
            "Requirement already satisfied: idna<3,>=2.5 in /usr/local/lib/python3.7/dist-packages (from requests<3,>=2.0.0->wandb) (2.10)\n",
            "Requirement already satisfied: termcolor<2.0.0,>=1.1.0 in /usr/local/lib/python3.7/dist-packages (from yaspin>=1.0.0->wandb) (1.1.0)\n",
            "Building wheels for collected packages: subprocess32, pathtools\n",
            "  Building wheel for subprocess32 (setup.py) ... \u001b[?25l\u001b[?25hdone\n",
            "  Created wheel for subprocess32: filename=subprocess32-3.5.4-py3-none-any.whl size=6502 sha256=3a2a17bd464ad1e4ff403ce95dfd3a63e968e35375854d7e352a5f7450e134e0\n",
            "  Stored in directory: /root/.cache/pip/wheels/50/ca/fa/8fca8d246e64f19488d07567547ddec8eb084e8c0d7a59226a\n",
            "  Building wheel for pathtools (setup.py) ... \u001b[?25l\u001b[?25hdone\n",
            "  Created wheel for pathtools: filename=pathtools-0.1.2-py3-none-any.whl size=8807 sha256=d6fc42cefb33ac428d98914438d1a1c3493ad53172786d224f8019be65612719\n",
            "  Stored in directory: /root/.cache/pip/wheels/3e/31/09/fa59cef12cdcfecc627b3d24273699f390e71828921b2cbba2\n",
            "Successfully built subprocess32 pathtools\n",
            "Installing collected packages: smmap, gitdb, yaspin, subprocess32, shortuuid, sentry-sdk, pathtools, GitPython, docker-pycreds, configparser, wandb\n",
            "Successfully installed GitPython-3.1.24 configparser-5.1.0 docker-pycreds-0.4.0 gitdb-4.0.9 pathtools-0.1.2 sentry-sdk-1.4.3 shortuuid-1.0.8 smmap-5.0.0 subprocess32-3.5.4 wandb-0.12.6 yaspin-2.1.0\n"
          ]
        }
      ]
    },
    {
      "cell_type": "code",
      "metadata": {
        "colab": {
          "base_uri": "https://localhost:8080/",
          "height": 69
        },
        "id": "MO9UOuwJabKZ",
        "outputId": "178d484b-b8b7-4deb-c235-a798ff86656e"
      },
      "source": [
        "wandb.login()"
      ],
      "execution_count": 2,
      "outputs": [
        {
          "output_type": "display_data",
          "data": {
            "application/javascript": [
              "\n",
              "        window._wandbApiKey = new Promise((resolve, reject) => {\n",
              "            function loadScript(url) {\n",
              "            return new Promise(function(resolve, reject) {\n",
              "                let newScript = document.createElement(\"script\");\n",
              "                newScript.onerror = reject;\n",
              "                newScript.onload = resolve;\n",
              "                document.body.appendChild(newScript);\n",
              "                newScript.src = url;\n",
              "            });\n",
              "            }\n",
              "            loadScript(\"https://cdn.jsdelivr.net/npm/postmate/build/postmate.min.js\").then(() => {\n",
              "            const iframe = document.createElement('iframe')\n",
              "            iframe.style.cssText = \"width:0;height:0;border:none\"\n",
              "            document.body.appendChild(iframe)\n",
              "            const handshake = new Postmate({\n",
              "                container: iframe,\n",
              "                url: 'https://wandb.ai/authorize'\n",
              "            });\n",
              "            const timeout = setTimeout(() => reject(\"Couldn't auto authenticate\"), 5000)\n",
              "            handshake.then(function(child) {\n",
              "                child.on('authorize', data => {\n",
              "                    clearTimeout(timeout)\n",
              "                    resolve(data)\n",
              "                });\n",
              "            });\n",
              "            })\n",
              "        });\n",
              "    "
            ],
            "text/plain": [
              "<IPython.core.display.Javascript object>"
            ]
          },
          "metadata": {}
        },
        {
          "output_type": "stream",
          "name": "stderr",
          "text": [
            "\u001b[34m\u001b[1mwandb\u001b[0m: Appending key for api.wandb.ai to your netrc file: /root/.netrc\n"
          ]
        },
        {
          "output_type": "execute_result",
          "data": {
            "text/plain": [
              "True"
            ]
          },
          "metadata": {},
          "execution_count": 2
        }
      ]
    },
    {
      "cell_type": "code",
      "metadata": {
        "colab": {
          "base_uri": "https://localhost:8080/"
        },
        "id": "6oj3nCEZB5Ez",
        "outputId": "3ffa17eb-560e-476d-976f-ad26ff00e1e3"
      },
      "source": [
        "drive.mount('/content/gdrive')"
      ],
      "execution_count": 3,
      "outputs": [
        {
          "output_type": "stream",
          "name": "stdout",
          "text": [
            "Mounted at /content/gdrive\n"
          ]
        }
      ]
    },
    {
      "cell_type": "markdown",
      "metadata": {
        "id": "4ftXzhsA1MYK"
      },
      "source": [
        "#Data Setup"
      ]
    },
    {
      "cell_type": "code",
      "metadata": {
        "id": "m2NuLyqz1Fvi"
      },
      "source": [
        "class education_dataset(torch.utils.data.Dataset):\n",
        "\n",
        "  def __init__(self, data_path):\n",
        "    data = pd.read_csv(data_path)\n",
        "    data = data.to_numpy()\n",
        "\n",
        "    self.X = data[:, :-1].astype(np.float32)\n",
        "    self.Y = data[:, -1].astype(np.int_) \n",
        "\n",
        "    self.X = torch.from_numpy(self.X)\n",
        "    self.Y= torch.from_numpy(self.Y)\n",
        "    \n",
        "  def __len__(self):\n",
        "    return len(self.Y)\n",
        "  \n",
        "  def __getitem__(self, index):\n",
        "    return(self.X[index, :], self.Y[index])"
      ],
      "execution_count": 4,
      "outputs": []
    },
    {
      "cell_type": "code",
      "metadata": {
        "id": "TgaYa_io2Ige"
      },
      "source": [
        "def create_data_loader(dataset, shuffle, batch_size = 128, num_workers = 1, pin_memory = True):\n",
        "  data_loader = torch.utils.data.DataLoader(dataset=dataset,\n",
        "                                                  batch_size = batch_size,\n",
        "                                                  shuffle = shuffle,\n",
        "                                                  num_workers = num_workers,\n",
        "                                                  pin_memory = pin_memory)\n",
        "  return data_loader"
      ],
      "execution_count": 5,
      "outputs": []
    },
    {
      "cell_type": "markdown",
      "metadata": {
        "id": "Ad-QvhsU2iYr"
      },
      "source": [
        "#Model Setup"
      ]
    },
    {
      "cell_type": "code",
      "metadata": {
        "id": "LWThe7vB2pA6"
      },
      "source": [
        "class ANNModel(torch.nn.Module):\n",
        "  def __init__(self, dropout_prob, hidden_layer_size_0, hidden_layer_size_1,hidden_layer_size_2,hidden_layer_size_3,hidden_layer_size_4,hidden_layer_size_5, classes):\n",
        "    super(ANNModel, self).__init__()\n",
        "\n",
        "    self.network = torch.nn.Sequential(torch.nn.Linear(13, hidden_layer_size_0), \n",
        "                torch.nn.ReLU(), \n",
        "                torch.nn.BatchNorm1d(hidden_layer_size_0),\n",
        "                torch.nn.Dropout(dropout_prob),\n",
        "                torch.nn.Linear(hidden_layer_size_0, hidden_layer_size_1),\n",
        "                torch.nn.ReLU(),\n",
        "                torch.nn.BatchNorm1d(hidden_layer_size_1),\n",
        "                torch.nn.Dropout(dropout_prob),\n",
        "                torch.nn.Linear(hidden_layer_size_1, hidden_layer_size_2),\n",
        "                torch.nn.ReLU(),\n",
        "                torch.nn.BatchNorm1d(hidden_layer_size_2),\n",
        "                torch.nn.Dropout(dropout_prob),\n",
        "                torch.nn.Linear(hidden_layer_size_2, hidden_layer_size_3),\n",
        "                torch.nn.ReLU(),\n",
        "                torch.nn.BatchNorm1d(hidden_layer_size_3),\n",
        "                torch.nn.Dropout(dropout_prob),\n",
        "                torch.nn.Linear(hidden_layer_size_3, hidden_layer_size_4),\n",
        "                torch.nn.ReLU(),\n",
        "                torch.nn.BatchNorm1d(hidden_layer_size_4),\n",
        "                torch.nn.Dropout(dropout_prob),\n",
        "                torch.nn.Linear(hidden_layer_size_4, hidden_layer_size_5),\n",
        "                torch.nn.ReLU(),\n",
        "                torch.nn.BatchNorm1d(hidden_layer_size_5),\n",
        "                torch.nn.Dropout(dropout_prob),\n",
        "                torch.nn.Linear(hidden_layer_size_5, classes)\n",
        "                )\n",
        "\n",
        "  def forward(self, data):\n",
        "    x = self.network(data)\n",
        "    return(x)"
      ],
      "execution_count": 6,
      "outputs": []
    },
    {
      "cell_type": "code",
      "metadata": {
        "id": "0XnbGBBU6HPL"
      },
      "source": [
        "def train_model(model, train_loader, optimizer, loss_function, epoch):\n",
        "  model.train()\n",
        "  running_loss = 0.0 \n",
        "\n",
        "  for features, label in train_loader:\n",
        "    optimizer.zero_grad()\n",
        "    features, label = features.to(device), label.to(device)\n",
        "\n",
        "    output = model(features)\n",
        "\n",
        "    loss = loss_function(output, label)\n",
        "    loss.backward()\n",
        "    optimizer.step()\n",
        "\n",
        "    running_loss += loss.item()\n",
        "\n",
        "    torch.cuda.empty_cache()\n",
        "    del features\n",
        "    del label\n",
        "\n",
        "  average_loss = running_loss/len(train_loader.dataset)\n",
        "  print(f\"Epoch:{epoch}, Training Loss:{average_loss}\")\n",
        "  wandb.log({\"Training Average Loss\":average_loss })"
      ],
      "execution_count": 7,
      "outputs": []
    },
    {
      "cell_type": "code",
      "metadata": {
        "id": "1wsQy7dq62Qd"
      },
      "source": [
        "def validate_model(model, val_loader, loss_function, epoch_index, batch_size):\n",
        "  model.eval()\n",
        "  running_loss = 0.0\n",
        "\n",
        "  with torch.no_grad():\n",
        "    for features, labels in val_loader: \n",
        "      features, labels = features.to(device), labels.to(device)\n",
        "      \n",
        "      output = model(features)\n",
        "\n",
        "      loss = loss_function(output, labels)\n",
        "      running_loss += loss.item()\n",
        "      \n",
        "  average_loss = running_loss/len(val_loader.dataset)  \n",
        "  print(f\"Epoch:{epoch_index}, Validation Loss:{average_loss}\")\n",
        "  wandb.log({\"Validation Average Loss\":average_loss, \"Epoch\":epoch_index})\n",
        "  return(average_loss)"
      ],
      "execution_count": 8,
      "outputs": []
    },
    {
      "cell_type": "code",
      "metadata": {
        "id": "PBUCc9L67vhF"
      },
      "source": [
        "  def save_model( model, optimizer, path, scheduler, epoch):\n",
        "    path = path + str(epoch) + '.pt'\n",
        "    torch.save({\n",
        "    'model_state_dict': model.state_dict(),\n",
        "    'optimizer_state_dict': optimizer.state_dict(),\n",
        "    'scheduler_state_dict' : scheduler.state_dict(),\n",
        "    }, path)"
      ],
      "execution_count": 9,
      "outputs": []
    },
    {
      "cell_type": "code",
      "metadata": {
        "id": "4dBs2XxP7z9x"
      },
      "source": [
        "def deploy_model(model, epoch_total, train_loader, optimizer, loss_function, validation_loader, batch_size, scheduler, path):\n",
        "  for epoch_index in range(epoch_total):\n",
        "    train_model(model, train_loader, optimizer, loss_function, epoch_index)\n",
        "    validation_average_loss = validate_model(model,validation_loader,loss_function,epoch_index,batch_size)\n",
        "    scheduler.step(validation_average_loss)\n",
        "    #save_model(model, optimizer, path, scheduler, epoch_index)"
      ],
      "execution_count": 10,
      "outputs": []
    },
    {
      "cell_type": "markdown",
      "metadata": {
        "id": "PumOKf4p8Qjd"
      },
      "source": [
        "#Training Model "
      ]
    },
    {
      "cell_type": "code",
      "metadata": {
        "id": "7HPcVEQy8F_6"
      },
      "source": [
        "config = {\n",
        "    'epochs' : 9,\n",
        "    'lr' : .002,\n",
        "    'optimizer' : 'adam',\n",
        "    'batch_size' : 16,\n",
        "    'schedular' : 'ReduceLROnPlateau',\n",
        "    'weight_decay' : 5e-6,\n",
        "    'hidden_layer_size_0' : 3*2048,\n",
        "    'hidden_layer_size_1' : 2*2048,\n",
        "    'hidden_layer_size_2' : 2*2048,\n",
        "    'hidden_layer_size_3' : 2*1024,\n",
        "    'hidden_layer_size_4' : 1*1024,\n",
        "    'hidden_layer_size_5' : 1*1024,\n",
        "    'class_size' : 2,\n",
        "    'dropout': .40,\n",
        "    'patience' : 3,\n",
        "    'run_name' : 'run0/',\n",
        "    'factor' : .4\n",
        "}"
      ],
      "execution_count": 11,
      "outputs": []
    },
    {
      "cell_type": "code",
      "metadata": {
        "colab": {
          "base_uri": "https://localhost:8080/",
          "height": 35
        },
        "id": "T3d0GEFY_VYe",
        "outputId": "1e73db27-7a30-4bff-8d1d-1d4190158d16"
      },
      "source": [
        "pwd"
      ],
      "execution_count": 12,
      "outputs": [
        {
          "output_type": "execute_result",
          "data": {
            "application/vnd.google.colaboratory.intrinsic+json": {
              "type": "string"
            },
            "text/plain": [
              "'/content'"
            ]
          },
          "metadata": {},
          "execution_count": 12
        }
      ]
    },
    {
      "cell_type": "code",
      "metadata": {
        "id": "NG9VC2n09Ll5",
        "colab": {
          "base_uri": "https://localhost:8080/"
        },
        "outputId": "aead5b5a-ff79-464d-f596-d6c3df2510e7"
      },
      "source": [
        "save_path = '/content/gdrive/MyDrive' + config['run_name']\n",
        "device = torch.device(\"cuda:0\" if torch.cuda.is_available() else \"cpu\")\n",
        "print(\"Device is on\",device)\n",
        "\n",
        "nn = ANNModel(config[\"dropout\"], config['hidden_layer_size_0'], config['hidden_layer_size_1'], config['hidden_layer_size_2'],config['hidden_layer_size_3'],config['hidden_layer_size_4'],config['hidden_layer_size_5'],2)\n",
        "nn = nn.to(device)\n",
        "\n",
        "train_data_path = '/content/gdrive/MyDrive/bdf_train.csv'\n",
        "train_eduction_dataset = education_dataset(train_data_path)\n",
        "train_education_dataloader = create_data_loader(train_eduction_dataset, shuffle = True)\n",
        "\n",
        "test_data_path = '/content/gdrive/MyDrive/bdf_test.csv'\n",
        "test_dataset = education_dataset(test_data_path)\n",
        "test_education_dataloader = create_data_loader(test_dataset, shuffle = False)\n",
        "\n",
        "optimizer = torch.optim.Adam(nn.parameters(), lr = config['lr'], weight_decay=config['weight_decay'])\n",
        "loss_function = torch.nn.CrossEntropyLoss() \n",
        "scheduler = torch.optim.lr_scheduler.ReduceLROnPlateau(optimizer, 'min', patience=config['patience'], factor=config['factor'])"
      ],
      "execution_count": 17,
      "outputs": [
        {
          "output_type": "stream",
          "name": "stdout",
          "text": [
            "Device is on cpu\n"
          ]
        }
      ]
    },
    {
      "cell_type": "code",
      "metadata": {
        "id": "1E_Mkete-WzN",
        "colab": {
          "base_uri": "https://localhost:8080/",
          "height": 594,
          "referenced_widgets": [
            "8f7c90e2de6046dc96ccd1f8af7f3a8b",
            "53aa7589985142149cdd61a470928f03",
            "e9786d6a16a4449d94ab311257c0d41d",
            "31adc7825612483c8096c5ea4275da22",
            "cee2de1a54e84caaa7efc991d1532c89",
            "f758b7317a17444f82eb849c68b29b12",
            "9f1523f0f1094fdab80aeb99f4a1163d",
            "a1b6eb146f3c4e7b8808a9886615a3e6"
          ]
        },
        "outputId": "44bc869d-d7bb-42f7-bf63-3135e0da3c58"
      },
      "source": [
        "wandb.init(project=\"DM Project\", config=config)\n",
        "deploy_model(nn, config['epochs'], train_education_dataloader, optimizer, loss_function, test_education_dataloader, config['batch_size'], scheduler, save_path )\n",
        "wandb.finish()"
      ],
      "execution_count": 18,
      "outputs": [
        {
          "output_type": "display_data",
          "data": {
            "text/html": [
              "\n",
              "                    Syncing run <strong><a href=\"https://wandb.ai/rafambraga/DM%20Project/runs/71d8vgmg\" target=\"_blank\">gentle-thunder-2</a></strong> to <a href=\"https://wandb.ai/rafambraga/DM%20Project\" target=\"_blank\">Weights & Biases</a> (<a href=\"https://docs.wandb.com/integrations/jupyter.html\" target=\"_blank\">docs</a>).<br/>\n",
              "\n",
              "                "
            ],
            "text/plain": [
              "<IPython.core.display.HTML object>"
            ]
          },
          "metadata": {}
        },
        {
          "output_type": "stream",
          "name": "stdout",
          "text": [
            "Epoch:0, Training Loss:0.018876512041441047\n",
            "Epoch:0, Validation Loss:0.03857769782726581\n",
            "Epoch:1, Training Loss:0.009934734172674042\n",
            "Epoch:1, Validation Loss:0.016226706596521232\n",
            "Epoch:2, Training Loss:0.006142630340506346\n",
            "Epoch:2, Validation Loss:0.015759949042246892\n",
            "Epoch:3, Training Loss:0.00673054029486772\n",
            "Epoch:3, Validation Loss:0.011175692539948684\n",
            "Epoch:4, Training Loss:0.005761976186939747\n",
            "Epoch:4, Validation Loss:0.012150975374075083\n",
            "Epoch:5, Training Loss:0.005742394281030849\n",
            "Epoch:5, Validation Loss:0.014128512602586013\n",
            "Epoch:6, Training Loss:0.005207852017213384\n",
            "Epoch:6, Validation Loss:0.01173876294722924\n",
            "Epoch:7, Training Loss:0.004790106547820545\n",
            "Epoch:7, Validation Loss:0.012711953199826754\n",
            "Epoch:8, Training Loss:0.0050467652392525205\n",
            "Epoch:8, Validation Loss:0.012018442612427932\n"
          ]
        },
        {
          "output_type": "display_data",
          "data": {
            "text/html": [
              "<br/>Waiting for W&B process to finish, PID 435... <strong style=\"color:green\">(success).</strong>"
            ],
            "text/plain": [
              "<IPython.core.display.HTML object>"
            ]
          },
          "metadata": {}
        },
        {
          "output_type": "display_data",
          "data": {
            "application/vnd.jupyter.widget-view+json": {
              "model_id": "8f7c90e2de6046dc96ccd1f8af7f3a8b",
              "version_minor": 0,
              "version_major": 2
            },
            "text/plain": [
              "VBox(children=(Label(value=' 0.00MB of 0.00MB uploaded (0.00MB deduped)\\r'), FloatProgress(value=1.0, max=1.0)…"
            ]
          },
          "metadata": {}
        },
        {
          "output_type": "display_data",
          "data": {
            "text/html": [
              "<style>\n",
              "    table.wandb td:nth-child(1) { padding: 0 10px; text-align: right }\n",
              "    .wandb-row { display: flex; flex-direction: row; flex-wrap: wrap; width: 100% }\n",
              "    .wandb-col { display: flex; flex-direction: column; flex-basis: 100%; flex: 1; padding: 10px; }\n",
              "    </style>\n",
              "<div class=\"wandb-row\"><div class=\"wandb-col\">\n",
              "<h3>Run history:</h3><br/><table class=\"wandb\"><tr><td>Epoch</td><td>▁▂▃▄▅▅▆▇█</td></tr><tr><td>Training Average Loss</td><td>█▄▂▂▁▁▁▁▁</td></tr><tr><td>Validation Average Loss</td><td>█▂▂▁▁▂▁▁▁</td></tr></table><br/></div><div class=\"wandb-col\">\n",
              "<h3>Run summary:</h3><br/><table class=\"wandb\"><tr><td>Epoch</td><td>8</td></tr><tr><td>Training Average Loss</td><td>0.00505</td></tr><tr><td>Validation Average Loss</td><td>0.01202</td></tr></table>\n",
              "</div></div>\n",
              "Synced 5 W&B file(s), 0 media file(s), 0 artifact file(s) and 0 other file(s)\n",
              "<br/>Synced <strong style=\"color:#cdcd00\">gentle-thunder-2</strong>: <a href=\"https://wandb.ai/rafambraga/DM%20Project/runs/71d8vgmg\" target=\"_blank\">https://wandb.ai/rafambraga/DM%20Project/runs/71d8vgmg</a><br/>\n",
              "Find logs at: <code>./wandb/run-20211116_181809-71d8vgmg/logs</code><br/>\n"
            ],
            "text/plain": [
              "<IPython.core.display.HTML object>"
            ]
          },
          "metadata": {}
        }
      ]
    },
    {
      "cell_type": "markdown",
      "metadata": {
        "id": "8_EqVZGk-v78"
      },
      "source": [
        "#Inference "
      ]
    },
    {
      "cell_type": "code",
      "metadata": {
        "id": "-HNThfOz_gTM"
      },
      "source": [
        "def predict_classes(model,test_loader):\n",
        "  \n",
        "  with torch.no_grad():\n",
        "    model.eval()\n",
        "    true_label = []\n",
        "    predicted_classes_total = []\n",
        "    \n",
        "    for x, y in test_loader:\n",
        "      x = x.to(device)\n",
        "      test_out = model(x)\n",
        "      prediction_logits, prediction_classes = torch.max(test_out,1)\n",
        "      prediction_classes = prediction_classes.tolist()\n",
        "      predicted_classes_total.extend(prediction_classes)\n",
        "\n",
        "      y = y.tolist()\n",
        "      true_label.extend(y)\n",
        "\n",
        "  return(predicted_classes_total, true_label)\n",
        "\n",
        "    \n",
        "predicted_classes_total, true_label = predict_classes(nn,test_education_dataloader)"
      ],
      "execution_count": 19,
      "outputs": []
    },
    {
      "cell_type": "code",
      "metadata": {
        "colab": {
          "base_uri": "https://localhost:8080/"
        },
        "id": "btxUfK3ggHmh",
        "outputId": "b043bbdf-8a4a-4e78-eacf-cd2ee8a11bb9"
      },
      "source": [
        "total_correct = 0\n",
        "for index, prediction in enumerate(predicted_classes_total):\n",
        "  if prediction == true_label[index]:\n",
        "    total_correct+=1\n",
        "  else:\n",
        "    pass\n",
        "  \n",
        "print(\"Total correct=\",total_correct )\n",
        "print(\"Accuracy =\",total_correct/len(predicted_classes_total))"
      ],
      "execution_count": 20,
      "outputs": [
        {
          "output_type": "stream",
          "name": "stdout",
          "text": [
            "Total correct= 96\n",
            "Accuracy = 0.7384615384615385\n"
          ]
        }
      ]
    }
  ]
}